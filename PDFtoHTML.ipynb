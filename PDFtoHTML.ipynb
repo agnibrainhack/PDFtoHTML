{
  "nbformat": 4,
  "nbformat_minor": 0,
  "metadata": {
    "colab": {
      "provenance": []
    },
    "kernelspec": {
      "name": "python3",
      "display_name": "Python 3"
    },
    "language_info": {
      "name": "python"
    }
  },
  "cells": [
    {
      "cell_type": "code",
      "source": [
        "!apt install ./pdf2htmlEX.deb"
      ],
      "metadata": {
        "colab": {
          "base_uri": "https://localhost:8080/"
        },
        "id": "vve_Watflr8j",
        "outputId": "21c205d1-5421-450f-d75d-961b2491de34"
      },
      "execution_count": 8,
      "outputs": [
        {
          "output_type": "stream",
          "name": "stdout",
          "text": [
            "Reading package lists... Done\n",
            "Building dependency tree... Done\n",
            "Reading state information... Done\n",
            "Note, selecting 'pdf2htmlex' instead of './pdf2htmlEX.deb'\n",
            "The following NEW packages will be installed:\n",
            "  pdf2htmlex\n",
            "0 upgraded, 1 newly installed, 0 to remove and 35 not upgraded.\n",
            "Need to get 0 B/4,562 kB of archives.\n",
            "After this operation, 0 B of additional disk space will be used.\n",
            "Get:1 /content/pdf2htmlEX.deb pdf2htmlex amd64 0:0.0.18.8.rc1.master.bionic.20200630-0 [4,562 kB]\n",
            "Selecting previously unselected package pdf2htmlex.\n",
            "(Reading database ... 121749 files and directories currently installed.)\n",
            "Preparing to unpack /content/pdf2htmlEX.deb ...\n",
            "Unpacking pdf2htmlex (0.0.18.8.rc1.master.bionic.20200630-0) ...\n",
            "Setting up pdf2htmlex (0.0.18.8.rc1.master.bionic.20200630-0) ...\n",
            "Processing triggers for man-db (2.10.2-1) ...\n"
          ]
        }
      ]
    },
    {
      "cell_type": "code",
      "source": [
        "!git clone https://github.com/airtonix/unilex-transcript"
      ],
      "metadata": {
        "colab": {
          "base_uri": "https://localhost:8080/"
        },
        "id": "eK5Jo6gVpUQA",
        "outputId": "861cef4e-d77f-4306-df80-011ce78aa6df"
      },
      "execution_count": 9,
      "outputs": [
        {
          "output_type": "stream",
          "name": "stdout",
          "text": [
            "Cloning into 'unilex-transcript'...\n",
            "remote: Enumerating objects: 236, done.\u001b[K\n",
            "remote: Counting objects: 100% (35/35), done.\u001b[K\n",
            "remote: Compressing objects: 100% (10/10), done.\u001b[K\n",
            "remote: Total 236 (delta 29), reused 25 (delta 25), pack-reused 201\u001b[K\n",
            "Receiving objects: 100% (236/236), 3.81 MiB | 12.13 MiB/s, done.\n",
            "Resolving deltas: 100% (116/116), done.\n"
          ]
        }
      ]
    },
    {
      "cell_type": "code",
      "source": [
        "%cd unilex-transcript/"
      ],
      "metadata": {
        "colab": {
          "base_uri": "https://localhost:8080/"
        },
        "id": "9GYWZYzqwEaC",
        "outputId": "9885674a-c52d-4c50-eda4-e522d29c1bc7"
      },
      "execution_count": 10,
      "outputs": [
        {
          "output_type": "stream",
          "name": "stdout",
          "text": [
            "/content/unilex-transcript\n"
          ]
        }
      ]
    },
    {
      "cell_type": "code",
      "source": [
        "!ls"
      ],
      "metadata": {
        "colab": {
          "base_uri": "https://localhost:8080/"
        },
        "id": "BINIXlJewLCv",
        "outputId": "12780660-acb8-4953-d10e-31da84b8da1a"
      },
      "execution_count": 11,
      "outputs": [
        {
          "output_type": "stream",
          "name": "stdout",
          "text": [
            "config.py\t __init__.py  pdf2html.py  requirements.txt  test.py  transcript.py\n",
            "dictionary.json  LICENSE.txt  README.rst   setup.py\t     tests    ttf.py\n"
          ]
        }
      ]
    },
    {
      "cell_type": "code",
      "source": [
        "!pip install -r requirements.txt"
      ],
      "metadata": {
        "colab": {
          "base_uri": "https://localhost:8080/"
        },
        "id": "NVkuD7SowL2G",
        "outputId": "caa5cc49-fe06-4743-edeb-cabb87f205b4"
      },
      "execution_count": 12,
      "outputs": [
        {
          "output_type": "stream",
          "name": "stdout",
          "text": [
            "Requirement already satisfied: lxml in /usr/local/lib/python3.10/dist-packages (from -r requirements.txt (line 2)) (4.9.4)\n",
            "Collecting cssselect (from -r requirements.txt (line 3))\n",
            "  Downloading cssselect-1.2.0-py2.py3-none-any.whl (18 kB)\n",
            "Collecting freetype-py (from -r requirements.txt (line 5))\n",
            "  Downloading freetype_py-2.4.0-py3-none-manylinux_2_5_x86_64.manylinux1_x86_64.manylinux_2_12_x86_64.manylinux2010_x86_64.whl (1.0 MB)\n",
            "\u001b[2K     \u001b[90m━━━━━━━━━━━━━━━━━━━━━━━━━━━━━━━━━━━━━━━━\u001b[0m \u001b[32m1.0/1.0 MB\u001b[0m \u001b[31m6.2 MB/s\u001b[0m eta \u001b[36m0:00:00\u001b[0m\n",
            "\u001b[?25hCollecting python-dotenv (from -r requirements.txt (line 6))\n",
            "  Downloading python_dotenv-1.0.1-py3-none-any.whl (19 kB)\n",
            "Installing collected packages: python-dotenv, freetype-py, cssselect\n",
            "Successfully installed cssselect-1.2.0 freetype-py-2.4.0 python-dotenv-1.0.1\n"
          ]
        }
      ]
    },
    {
      "cell_type": "code",
      "source": [
        "!touch .env\n",
        "!echo DATA_DIR = /content/ > .env"
      ],
      "metadata": {
        "id": "aNHR1CuQwc95"
      },
      "execution_count": 16,
      "outputs": []
    },
    {
      "cell_type": "code",
      "source": [
        "cat .env"
      ],
      "metadata": {
        "colab": {
          "base_uri": "https://localhost:8080/"
        },
        "id": "_ERlfIp5xZDE",
        "outputId": "f4ab316f-cb4b-42b5-b204-976269707de6"
      },
      "execution_count": 17,
      "outputs": [
        {
          "output_type": "stream",
          "name": "stdout",
          "text": [
            "DATA_DIR = /content/\n"
          ]
        }
      ]
    },
    {
      "cell_type": "code",
      "source": [
        "!mkdir /content/PDF\n",
        "# Need to put PDF here"
      ],
      "metadata": {
        "id": "_LNKqyu4zWTs"
      },
      "execution_count": null,
      "outputs": []
    },
    {
      "cell_type": "code",
      "source": [
        "%run -i 'pdf2html.py'\n",
        "%run -i 'transcript.py'"
      ],
      "metadata": {
        "colab": {
          "base_uri": "https://localhost:8080/"
        },
        "id": "lHxk5qqFx7Wa",
        "outputId": "bfabead1-5f31-4f0d-8820-04784156b4ee"
      },
      "execution_count": 36,
      "outputs": [
        {
          "output_type": "stream",
          "name": "stdout",
          "text": [
            "\n",
            "\n",
            "pdf2htmlEX --embed-external-font 0  --external-hint-tool ttfautohint --process-nontext 0 --embed cfijo --dest-dir /content/HTML/Proxy-Statement-FINAL-2023-03-17 /content/PDF/Proxy-Statement-FINAL-2023-03-17.pdf Proxy-Statement-FINAL-2023-03-17.htmlpdf2htmlEX --embed-external-font 0  --external-hint-tool ttfautohint --process-nontext 0 --embed cfijo --dest-dir /content/HTML/Q4-2023-Earnings-Presentation /content/PDF/Q4-2023-Earnings-Presentation.pdf Q4-2023-Earnings-Presentation.html\n",
            "\n",
            "/content/HTML/Proxy-Statement-FINAL-2023-03-17/Proxy-Statement-FINAL-2023-03-17.html\n",
            "/content/HTML/Q4-2023-Earnings-Presentation/Q4-2023-Earnings-Presentation.html\n"
          ]
        }
      ]
    },
    {
      "cell_type": "code",
      "source": [
        "!rm -rf /content/HTM"
      ],
      "metadata": {
        "id": "BagcxhIe6Opr"
      },
      "execution_count": 34,
      "outputs": []
    },
    {
      "cell_type": "code",
      "source": [
        "!rm -rf /content/HTML"
      ],
      "metadata": {
        "id": "vzPfK61U6bL3"
      },
      "execution_count": 35,
      "outputs": []
    },
    {
      "cell_type": "code",
      "source": [
        "!rm -rf /content/sample_data"
      ],
      "metadata": {
        "id": "VQ4HzyYF6iGB"
      },
      "execution_count": 37,
      "outputs": []
    },
    {
      "cell_type": "code",
      "source": [],
      "metadata": {
        "id": "R8DwqJCw9et2"
      },
      "execution_count": null,
      "outputs": []
    }
  ]
}